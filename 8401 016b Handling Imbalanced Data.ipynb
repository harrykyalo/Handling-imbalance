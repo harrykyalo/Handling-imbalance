{
 "cells": [
  {
   "cell_type": "markdown",
   "id": "f075cea7",
   "metadata": {},
   "source": [
    "# Class Imbalance"
   ]
  },
  {
   "cell_type": "code",
   "execution_count": 1,
   "id": "72829afc",
   "metadata": {},
   "outputs": [],
   "source": [
    "import numpy as np\n",
    "import pandas as pd\n",
    "import seaborn as sns\n",
    "import matplotlib.pyplot as plt\n",
    "import warnings\n",
    "\n",
    "%matplotlib inline\n",
    "warnings.filterwarnings('ignore')"
   ]
  },
  {
   "cell_type": "code",
   "execution_count": 2,
   "id": "f109e348",
   "metadata": {
    "scrolled": true
   },
   "outputs": [
    {
     "name": "stdout",
     "output_type": "stream",
     "text": [
      " Dataset has 28606 rows and 19 columns\n"
     ]
    },
    {
     "data": {
      "text/html": [
       "<div>\n",
       "<style scoped>\n",
       "    .dataframe tbody tr th:only-of-type {\n",
       "        vertical-align: middle;\n",
       "    }\n",
       "\n",
       "    .dataframe tbody tr th {\n",
       "        vertical-align: top;\n",
       "    }\n",
       "\n",
       "    .dataframe thead th {\n",
       "        text-align: right;\n",
       "    }\n",
       "</style>\n",
       "<table border=\"1\" class=\"dataframe\">\n",
       "  <thead>\n",
       "    <tr style=\"text-align: right;\">\n",
       "      <th></th>\n",
       "      <th>log_days_since_last</th>\n",
       "      <th>RFA_2F</th>\n",
       "      <th>RAMNTALL</th>\n",
       "      <th>OCC1</th>\n",
       "      <th>NUMPRM12</th>\n",
       "      <th>MAXRAMNT</th>\n",
       "      <th>EC6</th>\n",
       "      <th>CARDPROM</th>\n",
       "      <th>log_MAXRAMNT</th>\n",
       "      <th>VC4</th>\n",
       "      <th>RP4</th>\n",
       "      <th>PEPSTRFL_ind</th>\n",
       "      <th>OCC8</th>\n",
       "      <th>NGIFTALL</th>\n",
       "      <th>MINRAMNT</th>\n",
       "      <th>EC2</th>\n",
       "      <th>CONTROLN</th>\n",
       "      <th>CARDPM12</th>\n",
       "      <th>TARGET_B</th>\n",
       "    </tr>\n",
       "  </thead>\n",
       "  <tbody>\n",
       "    <tr>\n",
       "      <th>0</th>\n",
       "      <td>2.628389</td>\n",
       "      <td>1</td>\n",
       "      <td>180.0</td>\n",
       "      <td>14</td>\n",
       "      <td>14</td>\n",
       "      <td>60.0</td>\n",
       "      <td>8</td>\n",
       "      <td>20</td>\n",
       "      <td>1.778158</td>\n",
       "      <td>0</td>\n",
       "      <td>88</td>\n",
       "      <td>0.0</td>\n",
       "      <td>8</td>\n",
       "      <td>5</td>\n",
       "      <td>20.0</td>\n",
       "      <td>9</td>\n",
       "      <td>100339</td>\n",
       "      <td>5</td>\n",
       "      <td>0</td>\n",
       "    </tr>\n",
       "    <tr>\n",
       "      <th>1</th>\n",
       "      <td>2.713491</td>\n",
       "      <td>1</td>\n",
       "      <td>46.0</td>\n",
       "      <td>7</td>\n",
       "      <td>13</td>\n",
       "      <td>20.0</td>\n",
       "      <td>1</td>\n",
       "      <td>17</td>\n",
       "      <td>1.301052</td>\n",
       "      <td>1</td>\n",
       "      <td>17</td>\n",
       "      <td>0.0</td>\n",
       "      <td>5</td>\n",
       "      <td>5</td>\n",
       "      <td>5.0</td>\n",
       "      <td>17</td>\n",
       "      <td>45963</td>\n",
       "      <td>6</td>\n",
       "      <td>0</td>\n",
       "    </tr>\n",
       "    <tr>\n",
       "      <th>2</th>\n",
       "      <td>2.738781</td>\n",
       "      <td>1</td>\n",
       "      <td>20.0</td>\n",
       "      <td>9</td>\n",
       "      <td>10</td>\n",
       "      <td>20.0</td>\n",
       "      <td>7</td>\n",
       "      <td>6</td>\n",
       "      <td>1.301052</td>\n",
       "      <td>9</td>\n",
       "      <td>57</td>\n",
       "      <td>0.0</td>\n",
       "      <td>8</td>\n",
       "      <td>1</td>\n",
       "      <td>20.0</td>\n",
       "      <td>10</td>\n",
       "      <td>15689</td>\n",
       "      <td>4</td>\n",
       "      <td>0</td>\n",
       "    </tr>\n",
       "    <tr>\n",
       "      <th>3</th>\n",
       "      <td>2.738781</td>\n",
       "      <td>1</td>\n",
       "      <td>112.0</td>\n",
       "      <td>19</td>\n",
       "      <td>13</td>\n",
       "      <td>26.0</td>\n",
       "      <td>8</td>\n",
       "      <td>25</td>\n",
       "      <td>1.414990</td>\n",
       "      <td>17</td>\n",
       "      <td>91</td>\n",
       "      <td>1.0</td>\n",
       "      <td>11</td>\n",
       "      <td>7</td>\n",
       "      <td>5.0</td>\n",
       "      <td>16</td>\n",
       "      <td>74149</td>\n",
       "      <td>6</td>\n",
       "      <td>0</td>\n",
       "    </tr>\n",
       "    <tr>\n",
       "      <th>4</th>\n",
       "      <td>2.082785</td>\n",
       "      <td>1</td>\n",
       "      <td>40.0</td>\n",
       "      <td>18</td>\n",
       "      <td>14</td>\n",
       "      <td>15.0</td>\n",
       "      <td>8</td>\n",
       "      <td>9</td>\n",
       "      <td>1.176120</td>\n",
       "      <td>10</td>\n",
       "      <td>96</td>\n",
       "      <td>0.0</td>\n",
       "      <td>12</td>\n",
       "      <td>3</td>\n",
       "      <td>10.0</td>\n",
       "      <td>9</td>\n",
       "      <td>187162</td>\n",
       "      <td>4</td>\n",
       "      <td>0</td>\n",
       "    </tr>\n",
       "  </tbody>\n",
       "</table>\n",
       "</div>"
      ],
      "text/plain": [
       "   log_days_since_last  RFA_2F  RAMNTALL  OCC1  NUMPRM12  MAXRAMNT  EC6  \\\n",
       "0             2.628389       1     180.0    14        14      60.0    8   \n",
       "1             2.713491       1      46.0     7        13      20.0    1   \n",
       "2             2.738781       1      20.0     9        10      20.0    7   \n",
       "3             2.738781       1     112.0    19        13      26.0    8   \n",
       "4             2.082785       1      40.0    18        14      15.0    8   \n",
       "\n",
       "   CARDPROM  log_MAXRAMNT  VC4  RP4  PEPSTRFL_ind  OCC8  NGIFTALL  MINRAMNT  \\\n",
       "0        20      1.778158    0   88           0.0     8         5      20.0   \n",
       "1        17      1.301052    1   17           0.0     5         5       5.0   \n",
       "2         6      1.301052    9   57           0.0     8         1      20.0   \n",
       "3        25      1.414990   17   91           1.0    11         7       5.0   \n",
       "4         9      1.176120   10   96           0.0    12         3      10.0   \n",
       "\n",
       "   EC2  CONTROLN  CARDPM12  TARGET_B  \n",
       "0    9    100339         5         0  \n",
       "1   17     45963         6         0  \n",
       "2   10     15689         4         0  \n",
       "3   16     74149         6         0  \n",
       "4    9    187162         4         0  "
      ]
     },
     "execution_count": 2,
     "metadata": {},
     "output_type": "execute_result"
    }
   ],
   "source": [
    "df = pd.read_csv('cup98_modeling_data_sample.csv')\n",
    "\n",
    "#for this demonstration, we will only consider a few engineered features\n",
    "\n",
    "df=df[['log_days_since_last',\n",
    " 'RFA_2F',\n",
    " 'RAMNTALL',\n",
    " 'OCC1',\n",
    " 'NUMPRM12',\n",
    " 'MAXRAMNT',\n",
    " 'EC6',\n",
    " 'CARDPROM',\n",
    " 'log_MAXRAMNT',\n",
    " 'VC4',\n",
    " 'RP4',\n",
    " 'PEPSTRFL_ind',\n",
    " 'OCC8',\n",
    " 'NGIFTALL',\n",
    " 'MINRAMNT',\n",
    " 'EC2',\n",
    " 'CONTROLN',\n",
    " 'CARDPM12','TARGET_B']]\n",
    "\n",
    "r,c = df.shape\n",
    "print(\" Dataset has {} rows and {} columns\".format(r,c))\n",
    "df.head()"
   ]
  },
  {
   "cell_type": "code",
   "execution_count": 3,
   "id": "f2ea77d0",
   "metadata": {},
   "outputs": [
    {
     "data": {
      "text/plain": [
       "<AxesSubplot:xlabel='index', ylabel='proportion'>"
      ]
     },
     "execution_count": 3,
     "metadata": {},
     "output_type": "execute_result"
    },
    {
     "data": {
      "image/png": "[encoded data removed]",
      "text/plain": [
       "<Figure size 432x288 with 1 Axes>"
      ]
     },
     "metadata": {
      "needs_background": "light"
     },
     "output_type": "display_data"
    }
   ],
   "source": [
    "#check for imbalance\n",
    "\n",
    "k=(df['TARGET_B']\n",
    " .value_counts(normalize=True)\n",
    " .rename('proportion')\n",
    " .reset_index()\n",
    ")\n",
    "sns.barplot(data=k, x='index', y='proportion')"
   ]
  },
  {
   "cell_type": "code",
   "execution_count": 4,
   "id": "4c5df9f2",
   "metadata": {},
   "outputs": [
    {
     "data": {
      "text/plain": [
       "(20024, 18)"
      ]
     },
     "execution_count": 4,
     "metadata": {},
     "output_type": "execute_result"
    }
   ],
   "source": [
    "#Create x and y then split into train and test\n",
    "\n",
    "from sklearn.model_selection import train_test_split\n",
    "\n",
    "X = df.drop(['TARGET_B'], axis=1)\n",
    "y= df['TARGET_B'].rename('target')\n",
    "\n",
    "\n",
    "X_train, X_test, y_train, y_test = train_test_split(X, y, test_size=0.30, random_state=42)\n",
    "\n",
    "\n",
    "## scaling our data\n",
    "\n",
    "from sklearn.preprocessing import StandardScaler\n",
    "\n",
    "# Create a scaler object\n",
    "sc = StandardScaler()\n",
    "\n",
    "# Fit the scaler to the training data and transform\n",
    "X_train_std = sc.fit_transform(X_train)\n",
    "\n",
    "# Apply the scaler to the test data\n",
    "X_test_std = sc.transform(X_test)\n",
    "\n",
    "X_train_std.shape"
   ]
  },
  {
   "cell_type": "markdown",
   "id": "73399ae6",
   "metadata": {},
   "source": [
    "# Training a Binary Classifier"
   ]
  },
  {
   "cell_type": "code",
   "execution_count": 5,
   "id": "35c98cf4",
   "metadata": {},
   "outputs": [],
   "source": [
    "from sklearn.linear_model import LogisticRegression"
   ]
  },
  {
   "cell_type": "code",
   "execution_count": 6,
   "id": "493e26f7",
   "metadata": {},
   "outputs": [
    {
     "data": {
      "text/plain": [
       "LogisticRegression(C=0.01, penalty='l1', solver='liblinear')"
      ]
     },
     "execution_count": 6,
     "metadata": {},
     "output_type": "execute_result"
    }
   ],
   "source": [
    "logmodel1 = LogisticRegression(C= 0.01, penalty=\"l1\", solver='liblinear')\n",
    "logmodel1.fit(X_train_std, y_train)\n"
   ]
  },
  {
   "cell_type": "markdown",
   "id": "8102ee27",
   "metadata": {},
   "source": [
    "# Performance Measures"
   ]
  },
  {
   "cell_type": "markdown",
   "id": "81105689",
   "metadata": {},
   "source": [
    "# Measuring Accuracy Using Cross-Validation"
   ]
  },
  {
   "cell_type": "code",
   "execution_count": 7,
   "id": "16b4084a",
   "metadata": {
    "scrolled": true
   },
   "outputs": [
    {
     "name": "stdout",
     "output_type": "stream",
     "text": [
      "Cross-validation Accuracy on Train Data: 95.11%\n",
      "Cross-validation Accuracy on Test Data: 95.16%\n"
     ]
    }
   ],
   "source": [
    "from sklearn.model_selection import cross_val_score\n",
    "\n",
    "score1 = cross_val_score(logmodel1, X_train_std, y_train, cv=5, scoring='accuracy')\n",
    "score2 = cross_val_score(logmodel1, X_test_std, y_test, cv=5, scoring='accuracy')\n",
    "\n",
    "print(\"Cross-validation Accuracy on Train Data: %.2f%%\" % (score1.mean()* 100.0))\n",
    "print(\"Cross-validation Accuracy on Test Data: %.2f%%\" % (score2.mean()* 100.0))"
   ]
  },
  {
   "cell_type": "markdown",
   "id": "cbe54710",
   "metadata": {},
   "source": [
    "# ROC AUC"
   ]
  },
  {
   "cell_type": "code",
   "execution_count": 8,
   "id": "b6dc1b20",
   "metadata": {},
   "outputs": [
    {
     "data": {
      "image/png": "[encoded data removed]",
      "text/plain": [
       "<Figure size 504x504 with 1 Axes>"
      ]
     },
     "metadata": {
      "needs_background": "light"
     },
     "output_type": "display_data"
    }
   ],
   "source": [
    "from sklearn.metrics import classification_report, roc_auc_score, roc_curve\n",
    "\n",
    "# Calculate Area under the curve to display on the plot\n",
    "plt.figure(figsize=(7,7)) \n",
    "\n",
    "\n",
    "lr_probs1 = logmodel1.predict_proba(X_test_std)\n",
    "probs1 = lr_probs1[:, 1]\n",
    "\n",
    "fpr1, tpr1, thresholds1 = roc_curve(y_test, probs1)\n",
    "\n",
    "auc1 = roc_auc_score(y_test, probs1)\n",
    "plt.plot(fpr1, tpr1, color='r', label='%s ROC (area = %0.2f)' % ('Logistic', auc1))\n",
    "\n",
    "# Custom settings for the plot \n",
    "plt.plot([0, 1], [0, 1],'g--')\n",
    "plt.xlim([0.0, 1.0])\n",
    "plt.ylim([0.0, 1.05])\n",
    "plt.xlabel('1-Specificity(False Positive Rate)')\n",
    "plt.ylabel('Sensitivity(True Positive Rate)')\n",
    "plt.title('Receiver Operating Characteristic')\n",
    "plt.legend(loc=\"lower right\")\n",
    "plt.show()   # Display\n"
   ]
  },
  {
   "cell_type": "markdown",
   "id": "40954db9",
   "metadata": {},
   "source": [
    "# HANDLING CLASS IMBALANCE"
   ]
  },
  {
   "cell_type": "markdown",
   "id": "35588cf1",
   "metadata": {},
   "source": [
    "# 1. Oversampling "
   ]
  },
  {
   "cell_type": "code",
   "execution_count": 9,
   "id": "5ea0fb11",
   "metadata": {},
   "outputs": [],
   "source": [
    "from imblearn.over_sampling import RandomOverSampler"
   ]
  },
  {
   "cell_type": "code",
   "execution_count": 10,
   "id": "294e5fdc",
   "metadata": {},
   "outputs": [
    {
     "data": {
      "text/plain": [
       "(38090, 18)"
      ]
     },
     "execution_count": 10,
     "metadata": {},
     "output_type": "execute_result"
    }
   ],
   "source": [
    "ros = RandomOverSampler(sampling_strategy='minority')\n",
    "X_osample, y_osample=ros.fit_resample(X_train_std, y_train)\n",
    "X_osample.shape"
   ]
  },
  {
   "cell_type": "code",
   "execution_count": 11,
   "id": "a7d8bc18",
   "metadata": {
    "scrolled": false
   },
   "outputs": [
    {
     "data": {
      "text/plain": [
       "<AxesSubplot:title={'center':'Count of Classes'}>"
      ]
     },
     "execution_count": 11,
     "metadata": {},
     "output_type": "execute_result"
    },
    {
     "data": {
      "image/png": "[encoded data removed]",
      "text/plain": [
       "<Figure size 432x288 with 1 Axes>"
      ]
     },
     "metadata": {
      "needs_background": "light"
     },
     "output_type": "display_data"
    }
   ],
   "source": [
    "y_osample.value_counts().plot(kind='bar', title='Count of Classes')"
   ]
  },
  {
   "cell_type": "code",
   "execution_count": 12,
   "id": "fbd4c999",
   "metadata": {},
   "outputs": [],
   "source": [
    "##build a model on oversampled data\n",
    "logmodel2 = LogisticRegression(C= 0.01, penalty=\"l1\", solver='liblinear')\n",
    "logmodel2.fit(X_osample, y_osample)\n",
    "\n",
    "#IMPORTANT... we are making predictions on the original data, not an oversampled test dataset!!!\n",
    "lr_probs2 = logmodel2.predict_proba(X_test_std)\n",
    "probs2 = lr_probs2[:, 1]"
   ]
  },
  {
   "cell_type": "markdown",
   "id": "36959246",
   "metadata": {},
   "source": [
    "# 2. UnderSampling"
   ]
  },
  {
   "cell_type": "code",
   "execution_count": 13,
   "id": "23cfd36c",
   "metadata": {},
   "outputs": [
    {
     "name": "stdout",
     "output_type": "stream",
     "text": [
      "(1958, 18)\n"
     ]
    },
    {
     "data": {
      "text/plain": [
       "<AxesSubplot:title={'center':'Count of Classes'}>"
      ]
     },
     "execution_count": 13,
     "metadata": {},
     "output_type": "execute_result"
    },
    {
     "data": {
      "image/png": "[encoded data removed]",
      "text/plain": [
       "<Figure size 432x288 with 1 Axes>"
      ]
     },
     "metadata": {
      "needs_background": "light"
     },
     "output_type": "display_data"
    }
   ],
   "source": [
    "from imblearn.under_sampling import RandomUnderSampler\n",
    "rus = RandomUnderSampler()\n",
    "X_usample, y_usample=rus.fit_resample(X_train_std, y_train)\n",
    "print(X_usample.shape)\n",
    "y_usample.value_counts().plot(kind='bar', title='Count of Classes')"
   ]
  },
  {
   "cell_type": "code",
   "execution_count": 20,
   "id": "30e187e6",
   "metadata": {},
   "outputs": [],
   "source": [
    "##build a model on undersampled data\n",
    "logmodel3 = LogisticRegression(C= 0.01, penalty=\"l1\", solver='liblinear')\n",
    "logmodel3.fit(X_usample, y_usample)\n",
    "\n",
    "#IMPORTANT... we are making predictions on the original data, not an undersampled test dataset!!!\n",
    "lr_probs3 = logmodel3.predict_proba(X_test_std)\n",
    "probs3 = lr_probs3[:, 1]\n"
   ]
  },
  {
   "cell_type": "markdown",
   "id": "5ebdf459",
   "metadata": {},
   "source": [
    "# 3. SMOTE"
   ]
  },
  {
   "cell_type": "code",
   "execution_count": 14,
   "id": "58ae6ee2",
   "metadata": {},
   "outputs": [],
   "source": [
    "from imblearn.over_sampling import SMOTE"
   ]
  },
  {
   "cell_type": "code",
   "execution_count": 15,
   "id": "ce9387e4",
   "metadata": {},
   "outputs": [
    {
     "name": "stdout",
     "output_type": "stream",
     "text": [
      "(38090, 18)\n"
     ]
    },
    {
     "data": {
      "text/plain": [
       "<AxesSubplot:title={'center':'Count of Classes'}>"
      ]
     },
     "execution_count": 15,
     "metadata": {},
     "output_type": "execute_result"
    },
    {
     "data": {
      "image/png": "[encoded data removed]",
      "text/plain": [
       "<Figure size 432x288 with 1 Axes>"
      ]
     },
     "metadata": {
      "needs_background": "light"
     },
     "output_type": "display_data"
    }
   ],
   "source": [
    "smote = SMOTE(random_state=42, k_neighbors=100)\n",
    "X_ssample, y_ssample=smote.fit_resample(X_train_std, y_train)\n",
    "\n",
    "print(X_ssample.shape)\n",
    "\n",
    "y_ssample.value_counts().plot(kind='bar', title='Count of Classes')"
   ]
  },
  {
   "cell_type": "code",
   "execution_count": 16,
   "id": "cf65c699",
   "metadata": {},
   "outputs": [],
   "source": [
    "##build a model on SMOTE data\n",
    "logmodel4 = LogisticRegression(C= 0.01, penalty=\"l1\", solver='liblinear')\n",
    "logmodel4.fit(X_ssample, y_ssample)\n",
    "\n",
    "#IMPORTANT... we are making predictions on the original data\n",
    "lr_probs4 = logmodel4.predict_proba(X_test_std)\n",
    "probs4 = lr_probs4[:, 1]"
   ]
  },
  {
   "cell_type": "code",
   "execution_count": null,
   "id": "109db543",
   "metadata": {},
   "outputs": [],
   "source": []
  },
  {
   "cell_type": "markdown",
   "id": "05c9a882",
   "metadata": {},
   "source": [
    "# 4. Class Weight"
   ]
  },
  {
   "cell_type": "code",
   "execution_count": 17,
   "id": "1f7da714",
   "metadata": {},
   "outputs": [
    {
     "name": "stdout",
     "output_type": "stream",
     "text": [
      "Class weights: {0: 0.5257022840640588, 1: 10.226762002042902}\n"
     ]
    }
   ],
   "source": [
    "from sklearn.utils.class_weight import compute_class_weight\n",
    "# Create class weights to counter-balance classification during training\n",
    "\n",
    "classes = np.unique(y_train)\n",
    "weights = compute_class_weight('balanced', classes=classes, y=y_train)\n",
    "\n",
    "class_weights = {k: v for k, v in zip(classes, weights)}\n",
    "print('Class weights:', class_weights)"
   ]
  },
  {
   "cell_type": "code",
   "execution_count": 18,
   "id": "0a6985d0",
   "metadata": {},
   "outputs": [],
   "source": [
    "##build a weighted model\n",
    "logmodel5 = LogisticRegression(C= 0.01, penalty=\"l1\", solver='liblinear', class_weight='balanced')\n",
    "logmodel5.fit(X_train_std, y_train)\n",
    "\n",
    "#IMPORTANT... we are making predictions on the original data\n",
    "lr_probs5 = logmodel5.predict_proba(X_test_std)\n",
    "probs5= lr_probs5[:, 1]"
   ]
  },
  {
   "cell_type": "code",
   "execution_count": null,
   "id": "a22a0e2f",
   "metadata": {},
   "outputs": [],
   "source": []
  },
  {
   "cell_type": "code",
   "execution_count": null,
   "id": "e8e3bbd6",
   "metadata": {},
   "outputs": [],
   "source": []
  },
  {
   "cell_type": "markdown",
   "id": "b238cf4a",
   "metadata": {},
   "source": [
    "# Evaluate the 5 models"
   ]
  },
  {
   "cell_type": "code",
   "execution_count": 21,
   "id": "04a947f2",
   "metadata": {},
   "outputs": [
    {
     "data": {
      "image/png": "[encoded data removed]",
      "text/plain": [
       "<Figure size 576x576 with 1 Axes>"
      ]
     },
     "metadata": {
      "needs_background": "light"
     },
     "output_type": "display_data"
    }
   ],
   "source": [
    "fpr1, tpr1, thresholds1 = roc_curve(y_test, probs1)\n",
    "fpr2, tpr2, thresholds2 = roc_curve(y_test, probs2)\n",
    "fpr3, tpr3, thresholds3 = roc_curve(y_test, probs3)\n",
    "fpr4, tpr4, thresholds4 = roc_curve(y_test, probs4)\n",
    "fpr5, tpr5, thresholds5 = roc_curve(y_test, probs5)\n",
    "\n",
    "\n",
    "# Calculate Area under the curve to display on the plot\n",
    "plt.figure(figsize=(8,8)) \n",
    "\n",
    "auc1 = roc_auc_score(y_test, probs1)\n",
    "plt.plot(fpr1, tpr1, color='r', label='%s ROC (area = %0.2f)' % ('Logistic base', auc1))\n",
    "auc2 = roc_auc_score(y_test, probs2)\n",
    "plt.plot(fpr2, tpr2, color='b', label='%s ROC (area = %0.2f)' % ('Logistic Oversample', auc2))\n",
    "auc3 = roc_auc_score(y_test, probs3)\n",
    "plt.plot(fpr3, tpr3, color='g', label='%s ROC (area = %0.2f)' % ('Logistic Undersample', auc3))\n",
    "auc4 = roc_auc_score(y_test, probs4)\n",
    "plt.plot(fpr4, tpr4, color='m', label='%s ROC (area = %0.2f)' % ('Logistic SMOTE', auc4))\n",
    "auc5 = roc_auc_score(y_test, probs5)\n",
    "plt.plot(fpr5, tpr5, color='y', label='%s ROC (area = %0.2f)' % ('Logistic Weighted', auc5))\n",
    "\n",
    "\n",
    "# Custom settings for the plot \n",
    "plt.plot([0, 1], [0, 1],'g--')\n",
    "plt.xlim([0.0, 1.0])\n",
    "plt.ylim([0.0, 1.05])\n",
    "plt.xlabel('1-Specificity(False Positive Rate)')\n",
    "plt.ylabel('Sensitivity(True Positive Rate)')\n",
    "plt.title('Receiver Operating Characteristic')\n",
    "plt.legend(loc=\"lower right\")\n",
    "plt.show()   # Display"
   ]
  },
  {
   "cell_type": "markdown",
   "id": "d02fb1d5",
   "metadata": {},
   "source": [
    "# Evaluate on Lift"
   ]
  },
  {
   "cell_type": "code",
   "execution_count": null,
   "id": "aa4f7557",
   "metadata": {},
   "outputs": [],
   "source": [
    "def gains_charts():\n",
    "    ##create deciles and define buyers and nonbuyers\n",
    "    predictions1['decile'] = pd.qcut(predictions1['proba'],10,labels=['10','9','8','7','6','5','4','3','2','1'])\n",
    "    predictions1['nonbuyer'] = 1-predictions1['buyer']\n",
    "    \n",
    "    df1 = pd.pivot_table(data=predictions1,index=['decile'],values=['buyer','nonbuyer','proba'],\n",
    "                     aggfunc={'buyer':[np.sum],\n",
    "                              'nonbuyer':[np.sum],\n",
    "                              'proba' : [np.mean]})\n",
    "    df1.reset_index()\n",
    "    \n",
    "    df1.columns = ['buyer_Count','nonbuyer_Count','avg_score']\n",
    "    df1['Total_Cust'] = df1['buyer_Count']+df1['nonbuyer_Count']\n",
    "    \n",
    "    df2 = df1.sort_values(by='avg_score',ascending=False)\n",
    "    \n",
    "    df2['buyer_rate'] = (df2['buyer_Count'] / df2['Total_Cust']).apply('{0:.2%}'.format)\n",
    "\n",
    "    buyer_sum = df2['buyer_Count'].sum()\n",
    "    nonbuyer_sum = df2['nonbuyer_Count'].sum()\n",
    "\n",
    "    df2['buyer %'] = (df2['buyer_Count']/buyer_sum).apply('{0:.2%}'.format)\n",
    "    df2['nonbuyer %'] = (df2['nonbuyer_Count']/nonbuyer_sum).apply('{0:.2%}'.format)\n",
    "    \n",
    "    df2['ks_stats'] = np.round(((df2['buyer_Count'] / df2['buyer_Count'].sum()).cumsum() -(df2['nonbuyer_Count'] / df2['nonbuyer_Count'].sum()).cumsum()), 4) * 100\n",
    "    \n",
    "    flag = lambda x: '*****' if x == df2['ks_stats'].max() else ''\n",
    "    df2['max_ks'] = df2['ks_stats'].apply(flag)\n",
    "    \n",
    "    df2['buyer_cum%'] = np.round(((df2['buyer_Count'] / df2['buyer_Count'].sum()).cumsum()), 4) * 100\n",
    "    \n",
    "    df2['Base %'] = [10,20,30,40,50,60,70,80,90,100]\n",
    "    \n",
    "    overall = df2['buyer_Count'].sum() / df2['Total_Cust'].sum()\n",
    "    df2['lift'] = np.round(((df2['buyer_Count'] / df2['Total_Cust']) / overall)*100)\n",
    "    \n",
    "    df2 = df2[['Base %','Total_Cust', 'avg_score', 'buyer_Count', 'buyer_rate', 'buyer_cum%','lift']]\n",
    "    return df2"
   ]
  },
  {
   "cell_type": "code",
   "execution_count": null,
   "id": "bf13a9e8",
   "metadata": {},
   "outputs": [],
   "source": [
    "###prepare dataset for Lift Tables\n",
    "Y1_test1 = y_test.reset_index()\n",
    "\n",
    "probs1=pd.DataFrame(probs1)\n",
    "predictions1 = pd.concat([Y1_test1,probs1],axis = 1)\n",
    "predictions1.columns=['index','buyer','proba']\n",
    "##call the function\n",
    "model1_gains=gains_charts()\n",
    "\n",
    "probs2=pd.DataFrame(probs2)\n",
    "predictions1= pd.concat([Y1_test1,probs2],axis = 1)\n",
    "predictions1.columns=['index','buyer','proba']\n",
    "##call the function\n",
    "model2_gains=gains_charts()\n",
    "\n",
    "probs3=pd.DataFrame(probs3)\n",
    "predictions1 = pd.concat([Y1_test1,probs3],axis = 1)\n",
    "predictions1.columns=['index','buyer','proba']\n",
    "##call the function\n",
    "model3_gains=gains_charts()\n",
    "\n",
    "probs4=pd.DataFrame(probs4)\n",
    "predictions1 = pd.concat([Y1_test1,probs4],axis = 1)\n",
    "predictions1.columns=['index','buyer','proba']\n",
    "##call the function\n",
    "model4_gains=gains_charts()\n",
    "\n",
    "probs5=pd.DataFrame(probs5)\n",
    "predictions1 = pd.concat([Y1_test1,probs5],axis = 1)\n",
    "predictions1.columns=['index','buyer','proba']\n",
    "##call the function\n",
    "model5_gains=gains_charts()"
   ]
  },
  {
   "cell_type": "code",
   "execution_count": null,
   "id": "ba2da068",
   "metadata": {},
   "outputs": [],
   "source": [
    "fig, ax = plt.subplots(figsize=(8, 10))\n",
    "sns.lineplot( x='Base %', y='lift', label='Logistic base', data = model1_gains);\n",
    "sns.lineplot( x='Base %', y='lift', label='Logistic Oversample', data = model2_gains);\n",
    "sns.lineplot( x='Base %', y='lift', label='Logistic Undersample', data = model3_gains);\n",
    "sns.lineplot( x='Base %', y='lift', label='Logistic Smote', data = model4_gains);\n",
    "sns.lineplot( x='Base %', y='lift', label='Logistic Weighted', data = model5_gains);"
   ]
  },
  {
   "cell_type": "code",
   "execution_count": null,
   "id": "5a8f05f5",
   "metadata": {},
   "outputs": [],
   "source": []
  }
 ],
 "metadata": {
  "kernelspec": {
   "display_name": "Python 3 (ipykernel)",
   "language": "python",
   "name": "python3"
  },
  "language_info": {
   "codemirror_mode": {
    "name": "ipython",
    "version": 3
   },
   "file_extension": ".py",
   "mimetype": "text/x-python",
   "name": "python",
   "nbconvert_exporter": "python",
   "pygments_lexer": "ipython3",
   "version": "3.9.12"
  }
 },
 "nbformat": 4,
 "nbformat_minor": 5
}
